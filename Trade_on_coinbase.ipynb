{
 "cells": [
  {
   "cell_type": "code",
   "execution_count": 31,
   "id": "352c147f-ffb3-4ab6-b364-5bc151920643",
   "metadata": {
    "tags": []
   },
   "outputs": [],
   "source": [
    "import json\n",
    "from coinbase.rest import RESTClient\n",
    "from json import dumps\n",
    "import pandas as pd"
   ]
  },
  {
   "cell_type": "code",
   "execution_count": 8,
   "id": "9975bcda-d3bf-45b7-826e-23f7f1b9b12a",
   "metadata": {
    "tags": []
   },
   "outputs": [],
   "source": [
    "# Get demo API key\n",
    "def get_demo_key():\n",
    "    f = open(\"/home/vikas/Documents/Demo_view_CG_key.json\")\n",
    "    key_dict = json.load(f)\n",
    "    return key_dict[\"name\"], key_dict[\"privateKey\"]"
   ]
  },
  {
   "cell_type": "code",
   "execution_count": 11,
   "id": "98cfb89c-c173-4884-bee9-724b67274a06",
   "metadata": {
    "tags": []
   },
   "outputs": [],
   "source": [
    "api_key, api_secret = get_demo_key()\n",
    "\n",
    "client = RESTClient(api_key = api_key,\n",
    "                    api_secret = api_secret)"
   ]
  },
  {
   "cell_type": "markdown",
   "id": "9ffe8d86-c5f7-4a66-95e2-4376e4224d1c",
   "metadata": {
    "tags": []
   },
   "source": [
    "## Test API"
   ]
  },
  {
   "cell_type": "code",
   "execution_count": 21,
   "id": "df59f7a0-b548-484d-ba41-795092c5e9cb",
   "metadata": {
    "tags": []
   },
   "outputs": [
    {
     "name": "stdout",
     "output_type": "stream",
     "text": [
      "{\n",
      "    \"iso\": \"2024-09-02T18:52:45Z\",\n",
      "    \"epochSeconds\": \"1725303165\",\n",
      "    \"epochMillis\": \"1725303165836\"\n",
      "}\n"
     ]
    }
   ],
   "source": [
    "server_time = client.get_unix_time()\n",
    "print(dumps(server_time, indent = 4))"
   ]
  },
  {
   "cell_type": "markdown",
   "id": "a114fb48-2cea-4c61-890f-f081a167aa7c",
   "metadata": {},
   "source": [
    "## Get trades for a given pair"
   ]
  },
  {
   "cell_type": "code",
   "execution_count": 36,
   "id": "5758d3d5-ee98-49e2-9dbf-b71ccce07e27",
   "metadata": {
    "tags": []
   },
   "outputs": [],
   "source": [
    "# btc_usd = client.get_public_market_trades(\"BTC-USD\", 2)\n",
    "# print(dumps(btc_usd, indent = 4))"
   ]
  },
  {
   "cell_type": "code",
   "execution_count": 32,
   "id": "fda3bc54-2eb9-42f1-b7b6-3f879c159ae2",
   "metadata": {
    "tags": []
   },
   "outputs": [],
   "source": [
    "def get_latest_trades(pair, num_trades):\n",
    "    \n",
    "    all_trades = client.get_public_market_trades(pair, num_trades)\n",
    "    \n",
    "    return pd.DataFrame(all_trades[\"trades\"])   \n",
    "    "
   ]
  },
  {
   "cell_type": "code",
   "execution_count": 35,
   "id": "ba2089f7-d50f-4ef7-8020-d7a0f6bb6209",
   "metadata": {
    "tags": []
   },
   "outputs": [
    {
     "data": {
      "text/html": [
       "<div>\n",
       "<style scoped>\n",
       "    .dataframe tbody tr th:only-of-type {\n",
       "        vertical-align: middle;\n",
       "    }\n",
       "\n",
       "    .dataframe tbody tr th {\n",
       "        vertical-align: top;\n",
       "    }\n",
       "\n",
       "    .dataframe thead th {\n",
       "        text-align: right;\n",
       "    }\n",
       "</style>\n",
       "<table border=\"1\" class=\"dataframe\">\n",
       "  <thead>\n",
       "    <tr style=\"text-align: right;\">\n",
       "      <th></th>\n",
       "      <th>trade_id</th>\n",
       "      <th>product_id</th>\n",
       "      <th>price</th>\n",
       "      <th>size</th>\n",
       "      <th>time</th>\n",
       "      <th>side</th>\n",
       "      <th>bid</th>\n",
       "      <th>ask</th>\n",
       "    </tr>\n",
       "  </thead>\n",
       "  <tbody>\n",
       "    <tr>\n",
       "      <th>0</th>\n",
       "      <td>687648871</td>\n",
       "      <td>BTC-USD</td>\n",
       "      <td>58447.31</td>\n",
       "      <td>0.00044062</td>\n",
       "      <td>2024-09-02T19:02:38.027420Z</td>\n",
       "      <td>BUY</td>\n",
       "      <td></td>\n",
       "      <td></td>\n",
       "    </tr>\n",
       "    <tr>\n",
       "      <th>1</th>\n",
       "      <td>687648870</td>\n",
       "      <td>BTC-USD</td>\n",
       "      <td>58443.99</td>\n",
       "      <td>0.00317965</td>\n",
       "      <td>2024-09-02T19:02:37.130845Z</td>\n",
       "      <td>BUY</td>\n",
       "      <td></td>\n",
       "      <td></td>\n",
       "    </tr>\n",
       "    <tr>\n",
       "      <th>2</th>\n",
       "      <td>687648869</td>\n",
       "      <td>BTC-USD</td>\n",
       "      <td>58447.31</td>\n",
       "      <td>0.00031515</td>\n",
       "      <td>2024-09-02T19:02:37.130845Z</td>\n",
       "      <td>BUY</td>\n",
       "      <td></td>\n",
       "      <td></td>\n",
       "    </tr>\n",
       "    <tr>\n",
       "      <th>3</th>\n",
       "      <td>687648868</td>\n",
       "      <td>BTC-USD</td>\n",
       "      <td>58447.32</td>\n",
       "      <td>0.00015261</td>\n",
       "      <td>2024-09-02T19:02:36.081030Z</td>\n",
       "      <td>SELL</td>\n",
       "      <td></td>\n",
       "      <td></td>\n",
       "    </tr>\n",
       "    <tr>\n",
       "      <th>4</th>\n",
       "      <td>687648867</td>\n",
       "      <td>BTC-USD</td>\n",
       "      <td>58447.32</td>\n",
       "      <td>0.00044713</td>\n",
       "      <td>2024-09-02T19:02:35.122955Z</td>\n",
       "      <td>SELL</td>\n",
       "      <td></td>\n",
       "      <td></td>\n",
       "    </tr>\n",
       "  </tbody>\n",
       "</table>\n",
       "</div>"
      ],
      "text/plain": [
       "    trade_id product_id     price        size                         time  \\\n",
       "0  687648871    BTC-USD  58447.31  0.00044062  2024-09-02T19:02:38.027420Z   \n",
       "1  687648870    BTC-USD  58443.99  0.00317965  2024-09-02T19:02:37.130845Z   \n",
       "2  687648869    BTC-USD  58447.31  0.00031515  2024-09-02T19:02:37.130845Z   \n",
       "3  687648868    BTC-USD  58447.32  0.00015261  2024-09-02T19:02:36.081030Z   \n",
       "4  687648867    BTC-USD  58447.32  0.00044713  2024-09-02T19:02:35.122955Z   \n",
       "\n",
       "   side bid ask  \n",
       "0   BUY          \n",
       "1   BUY          \n",
       "2   BUY          \n",
       "3  SELL          \n",
       "4  SELL          "
      ]
     },
     "execution_count": 35,
     "metadata": {},
     "output_type": "execute_result"
    }
   ],
   "source": [
    "df_btc_usd = get_latest_trades(\"BTC-USD\", 5)\n",
    "df_btc_usd"
   ]
  },
  {
   "cell_type": "code",
   "execution_count": null,
   "id": "9e1bd74c-8c81-4890-9a5d-663927e8fa7c",
   "metadata": {},
   "outputs": [],
   "source": []
  }
 ],
 "metadata": {
  "kernelspec": {
   "display_name": "Python 3 (ipykernel)",
   "language": "python",
   "name": "python3"
  },
  "language_info": {
   "codemirror_mode": {
    "name": "ipython",
    "version": 3
   },
   "file_extension": ".py",
   "mimetype": "text/x-python",
   "name": "python",
   "nbconvert_exporter": "python",
   "pygments_lexer": "ipython3",
   "version": "3.10.12"
  },
  "toc-showtags": false
 },
 "nbformat": 4,
 "nbformat_minor": 5
}
