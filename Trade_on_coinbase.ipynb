{
 "cells": [
  {
   "cell_type": "code",
   "execution_count": 90,
   "id": "352c147f-ffb3-4ab6-b364-5bc151920643",
   "metadata": {
    "tags": []
   },
   "outputs": [],
   "source": [
    "import json\n",
    "from coinbase.rest import RESTClient\n",
    "from json import dumps\n",
    "import pandas as pd\n",
    "from random import randint\n",
    "import pytz\n",
    "import datetime\n",
    "import time"
   ]
  },
  {
   "cell_type": "code",
   "execution_count": 51,
   "id": "9975bcda-d3bf-45b7-826e-23f7f1b9b12a",
   "metadata": {
    "tags": []
   },
   "outputs": [],
   "source": [
    "# Get demo API key\n",
    "def get_demo_key(key_type):\n",
    "    f = open(f\"/home/vikas/Documents/Demo_{key_type}_CG_key.json\")\n",
    "    key_dict = json.load(f)\n",
    "    return key_dict[\"name\"], key_dict[\"privateKey\"]"
   ]
  },
  {
   "cell_type": "code",
   "execution_count": 55,
   "id": "98cfb89c-c173-4884-bee9-724b67274a06",
   "metadata": {
    "tags": []
   },
   "outputs": [],
   "source": [
    "api_key, api_secret = get_demo_key(\"view\")\n",
    "\n",
    "view_client = RESTClient(api_key = api_key,\n",
    "                         api_secret = api_secret)"
   ]
  },
  {
   "cell_type": "markdown",
   "id": "9ffe8d86-c5f7-4a66-95e2-4376e4224d1c",
   "metadata": {
    "tags": []
   },
   "source": [
    "## Test API"
   ]
  },
  {
   "cell_type": "code",
   "execution_count": 53,
   "id": "df59f7a0-b548-484d-ba41-795092c5e9cb",
   "metadata": {
    "tags": []
   },
   "outputs": [
    {
     "name": "stdout",
     "output_type": "stream",
     "text": [
      "{\n",
      "    \"iso\": \"2024-09-02T19:36:08Z\",\n",
      "    \"epochSeconds\": \"1725305768\",\n",
      "    \"epochMillis\": \"1725305768873\"\n",
      "}\n"
     ]
    }
   ],
   "source": [
    "server_time = view_client.get_unix_time()\n",
    "print(dumps(server_time, indent = 4))"
   ]
  },
  {
   "cell_type": "code",
   "execution_count": 54,
   "id": "f87cb5f4-8b35-4fca-9a48-8c0b3082eb9e",
   "metadata": {
    "tags": []
   },
   "outputs": [
    {
     "data": {
      "text/plain": [
       "{'can_view': True,\n",
       " 'can_trade': False,\n",
       " 'can_transfer': False,\n",
       " 'portfolio_uuid': 'd083ea15-3f44-54da-8e9e-2a5a9bdccb32'}"
      ]
     },
     "execution_count": 54,
     "metadata": {},
     "output_type": "execute_result"
    }
   ],
   "source": [
    "view_client.get_api_key_permissions()"
   ]
  },
  {
   "cell_type": "markdown",
   "id": "2304807c-12b1-47ee-8dfc-7596bcc95dd7",
   "metadata": {},
   "source": [
    "## Convert to local timezone"
   ]
  },
  {
   "cell_type": "code",
   "execution_count": 101,
   "id": "d702aa41-0de3-4749-8fd9-2ee8eec40325",
   "metadata": {
    "tags": []
   },
   "outputs": [],
   "source": [
    "def convert_to_local_tz(old_ts):\n",
    "    \n",
    "    new_tz = pytz.timezone(\"Europe/Amsterdam\")\n",
    "    old_tz = pytz.timezone(\"UTC\")\n",
    "    \n",
    "    format = \"%Y-%m-%dT%H:%M:%S.%fZ\"\n",
    "    datetime_obj = datetime.datetime.strptime(old_ts, format)\n",
    "    \n",
    "    localized_ts = old_tz.localize(datetime_obj)\n",
    "    new_ts = localized_ts.astimezone(new_tz)\n",
    "    \n",
    "    return new_ts"
   ]
  },
  {
   "cell_type": "markdown",
   "id": "a114fb48-2cea-4c61-890f-f081a167aa7c",
   "metadata": {},
   "source": [
    "## Get trades for a given pair"
   ]
  },
  {
   "cell_type": "code",
   "execution_count": 58,
   "id": "5758d3d5-ee98-49e2-9dbf-b71ccce07e27",
   "metadata": {
    "tags": []
   },
   "outputs": [],
   "source": [
    "# btc_usd = view_client.get_public_market_trades(\"BTC-USD\", 2)\n",
    "# print(dumps(btc_usd, indent = 4))"
   ]
  },
  {
   "cell_type": "code",
   "execution_count": 104,
   "id": "fda3bc54-2eb9-42f1-b7b6-3f879c159ae2",
   "metadata": {
    "tags": []
   },
   "outputs": [],
   "source": [
    "def get_latest_trades(pair, num_trades):\n",
    "    \n",
    "    all_trades = view_client.get_public_market_trades(pair, num_trades)\n",
    "    \n",
    "    df_trades = pd.DataFrame(all_trades[\"trades\"])\n",
    "    df_trades[\"time\"] = df_trades[\"time\"].apply(convert_to_local_tz)\n",
    "    \n",
    "    return df_trades"
   ]
  },
  {
   "cell_type": "code",
   "execution_count": 105,
   "id": "ba2089f7-d50f-4ef7-8020-d7a0f6bb6209",
   "metadata": {
    "tags": []
   },
   "outputs": [
    {
     "data": {
      "text/html": [
       "<div>\n",
       "<style scoped>\n",
       "    .dataframe tbody tr th:only-of-type {\n",
       "        vertical-align: middle;\n",
       "    }\n",
       "\n",
       "    .dataframe tbody tr th {\n",
       "        vertical-align: top;\n",
       "    }\n",
       "\n",
       "    .dataframe thead th {\n",
       "        text-align: right;\n",
       "    }\n",
       "</style>\n",
       "<table border=\"1\" class=\"dataframe\">\n",
       "  <thead>\n",
       "    <tr style=\"text-align: right;\">\n",
       "      <th></th>\n",
       "      <th>trade_id</th>\n",
       "      <th>product_id</th>\n",
       "      <th>price</th>\n",
       "      <th>size</th>\n",
       "      <th>time</th>\n",
       "      <th>side</th>\n",
       "      <th>bid</th>\n",
       "      <th>ask</th>\n",
       "    </tr>\n",
       "  </thead>\n",
       "  <tbody>\n",
       "    <tr>\n",
       "      <th>0</th>\n",
       "      <td>53256926</td>\n",
       "      <td>ETH-EUR</td>\n",
       "      <td>2294.2</td>\n",
       "      <td>0.00280435</td>\n",
       "      <td>2024-09-02 22:36:31.069523+02:00</td>\n",
       "      <td>SELL</td>\n",
       "      <td></td>\n",
       "      <td></td>\n",
       "    </tr>\n",
       "    <tr>\n",
       "      <th>1</th>\n",
       "      <td>53256925</td>\n",
       "      <td>ETH-EUR</td>\n",
       "      <td>2294.55</td>\n",
       "      <td>0.04189089</td>\n",
       "      <td>2024-09-02 22:36:25.338282+02:00</td>\n",
       "      <td>SELL</td>\n",
       "      <td></td>\n",
       "      <td></td>\n",
       "    </tr>\n",
       "    <tr>\n",
       "      <th>2</th>\n",
       "      <td>53256924</td>\n",
       "      <td>ETH-EUR</td>\n",
       "      <td>2295.73</td>\n",
       "      <td>0.03813667</td>\n",
       "      <td>2024-09-02 22:36:12.482725+02:00</td>\n",
       "      <td>SELL</td>\n",
       "      <td></td>\n",
       "      <td></td>\n",
       "    </tr>\n",
       "    <tr>\n",
       "      <th>3</th>\n",
       "      <td>53256923</td>\n",
       "      <td>ETH-EUR</td>\n",
       "      <td>2295.68</td>\n",
       "      <td>0.13130917</td>\n",
       "      <td>2024-09-02 22:36:12.482725+02:00</td>\n",
       "      <td>SELL</td>\n",
       "      <td></td>\n",
       "      <td></td>\n",
       "    </tr>\n",
       "    <tr>\n",
       "      <th>4</th>\n",
       "      <td>53256922</td>\n",
       "      <td>ETH-EUR</td>\n",
       "      <td>2297.37</td>\n",
       "      <td>1.73677525</td>\n",
       "      <td>2024-09-02 22:36:08.081227+02:00</td>\n",
       "      <td>BUY</td>\n",
       "      <td></td>\n",
       "      <td></td>\n",
       "    </tr>\n",
       "  </tbody>\n",
       "</table>\n",
       "</div>"
      ],
      "text/plain": [
       "   trade_id product_id    price        size                             time  \\\n",
       "0  53256926    ETH-EUR   2294.2  0.00280435 2024-09-02 22:36:31.069523+02:00   \n",
       "1  53256925    ETH-EUR  2294.55  0.04189089 2024-09-02 22:36:25.338282+02:00   \n",
       "2  53256924    ETH-EUR  2295.73  0.03813667 2024-09-02 22:36:12.482725+02:00   \n",
       "3  53256923    ETH-EUR  2295.68  0.13130917 2024-09-02 22:36:12.482725+02:00   \n",
       "4  53256922    ETH-EUR  2297.37  1.73677525 2024-09-02 22:36:08.081227+02:00   \n",
       "\n",
       "   side bid ask  \n",
       "0  SELL          \n",
       "1  SELL          \n",
       "2  SELL          \n",
       "3  SELL          \n",
       "4   BUY          "
      ]
     },
     "execution_count": 105,
     "metadata": {},
     "output_type": "execute_result"
    }
   ],
   "source": [
    "df_btc_usd = get_latest_trades(\"ETH-EUR\", 5)\n",
    "df_btc_usd"
   ]
  },
  {
   "cell_type": "markdown",
   "id": "ef6c53b6-c794-4560-8639-90d5a8c2b3e4",
   "metadata": {},
   "source": [
    "## Get accounts"
   ]
  },
  {
   "cell_type": "code",
   "execution_count": 46,
   "id": "c27ce78b-b67d-48ab-9f1a-16c606e966f5",
   "metadata": {
    "tags": []
   },
   "outputs": [],
   "source": [
    "#client.get_accounts()"
   ]
  },
  {
   "cell_type": "markdown",
   "id": "6d01f4a0-ea24-41ba-a5cc-40ae0a4e06be",
   "metadata": {},
   "source": [
    "## Get portfolios"
   ]
  },
  {
   "cell_type": "code",
   "execution_count": 50,
   "id": "35aa6b74-3a6c-47f8-a673-6e61e574ab1a",
   "metadata": {
    "tags": []
   },
   "outputs": [
    {
     "data": {
      "text/plain": [
       "{'portfolios': [{'name': 'Default',\n",
       "   'uuid': 'd083ea15-3f44-54da-8e9e-2a5a9bdccb32',\n",
       "   'type': 'DEFAULT',\n",
       "   'deleted': False},\n",
       "  {'name': 'Demo portfolio',\n",
       "   'uuid': '581b97fc-d5a9-4b69-bb3c-1c9853fb9b71',\n",
       "   'type': 'CONSUMER',\n",
       "   'deleted': False}]}"
      ]
     },
     "execution_count": 50,
     "metadata": {},
     "output_type": "execute_result"
    }
   ],
   "source": [
    "client.get_portfolios()"
   ]
  },
  {
   "cell_type": "markdown",
   "id": "6de509b9-400e-4363-935f-9d3f674321b8",
   "metadata": {
    "tags": []
   },
   "source": [
    "## Check portfolio breakdown"
   ]
  },
  {
   "cell_type": "code",
   "execution_count": 60,
   "id": "59d8c179-0ad7-45e0-8eb7-c7d6a1ae9a58",
   "metadata": {
    "tags": []
   },
   "outputs": [],
   "source": [
    "api_key, api_secret = get_demo_key(\"trade\")\n",
    "\n",
    "trade_client = RESTClient(api_key = api_key,\n",
    "                          api_secret = api_secret)"
   ]
  },
  {
   "cell_type": "code",
   "execution_count": 61,
   "id": "7b5834a5-d58d-4fe6-a96c-8d50a37be632",
   "metadata": {
    "tags": []
   },
   "outputs": [
    {
     "data": {
      "text/plain": [
       "{'breakdown': {'portfolio': {'name': 'Demo portfolio',\n",
       "   'uuid': '581b97fc-d5a9-4b69-bb3c-1c9853fb9b71',\n",
       "   'type': 'CONSUMER',\n",
       "   'deleted': False},\n",
       "  'portfolio_balances': {'total_balance': {'value': '20', 'currency': 'EUR'},\n",
       "   'total_futures_balance': {'value': '0', 'currency': 'EUR'},\n",
       "   'total_cash_equivalent_balance': {'value': '20', 'currency': 'EUR'},\n",
       "   'total_crypto_balance': {'value': '0', 'currency': 'EUR'},\n",
       "   'futures_unrealized_pnl': {'value': '0', 'currency': 'EUR'},\n",
       "   'perp_unrealized_pnl': {'value': '0', 'currency': 'EUR'}},\n",
       "  'spot_positions': [{'asset': 'EUR',\n",
       "    'account_uuid': '250a2cb1-2aa3-5b0b-bb56-a17cbc2f9780',\n",
       "    'total_balance_fiat': 20,\n",
       "    'total_balance_crypto': 20,\n",
       "    'available_to_trade_fiat': 20,\n",
       "    'allocation': 1,\n",
       "    'cost_basis': {'value': '20', 'currency': 'EUR'},\n",
       "    'asset_img_url': '',\n",
       "    'is_cash': True,\n",
       "    'average_entry_price': {'value': '1.00', 'currency': 'EUR'},\n",
       "    'asset_uuid': '',\n",
       "    'available_to_trade_crypto': 20,\n",
       "    'unrealized_pnl': 0,\n",
       "    'available_to_transfer_fiat': 20,\n",
       "    'available_to_transfer_crypto': 20,\n",
       "    'asset_color': ''}],\n",
       "  'perp_positions': [],\n",
       "  'futures_positions': []}}"
      ]
     },
     "execution_count": 61,
     "metadata": {},
     "output_type": "execute_result"
    }
   ],
   "source": [
    "trade_client.get_portfolio_breakdown('581b97fc-d5a9-4b69-bb3c-1c9853fb9b71')"
   ]
  },
  {
   "cell_type": "markdown",
   "id": "dae443c6-2187-4edd-9e55-be018f73ea69",
   "metadata": {},
   "source": [
    "## Place a market order"
   ]
  },
  {
   "cell_type": "code",
   "execution_count": 68,
   "id": "7b9ea056-6394-44f5-9f09-0277a0f8f684",
   "metadata": {
    "tags": []
   },
   "outputs": [],
   "source": [
    "def generate_client_id(id_length):\n",
    "    \n",
    "    return \"\".join(f\"{randint(0, 9)}\" for _ in range(id_length))       "
   ]
  },
  {
   "cell_type": "code",
   "execution_count": 106,
   "id": "7f98d46b-1247-4d63-92ff-dfe42720355f",
   "metadata": {
    "tags": []
   },
   "outputs": [],
   "source": [
    "# buy_order = trade_client.market_order_buy(\n",
    "#     client_order_id = generate_client_id(10),\n",
    "#     product_id = \"ETH-EUR\",\n",
    "#     quote_size = \"5\")   "
   ]
  },
  {
   "cell_type": "code",
   "execution_count": 109,
   "id": "533684d6-24f6-4737-9bee-d1d95b4d27c8",
   "metadata": {
    "tags": []
   },
   "outputs": [
    {
     "data": {
      "text/plain": [
       "'325b80c0-3742-4fc2-96ba-27f66d617840'"
      ]
     },
     "execution_count": 109,
     "metadata": {},
     "output_type": "execute_result"
    }
   ],
   "source": [
    "buy_order[\"order_id\"]"
   ]
  },
  {
   "cell_type": "code",
   "execution_count": 81,
   "id": "d78d67e4-7a97-4315-87b9-6b50c90abc68",
   "metadata": {
    "tags": []
   },
   "outputs": [],
   "source": [
    "# fills = trade_client.get_fills(order_id = buy_order[\"order_id\"])\n",
    "# fills"
   ]
  },
  {
   "cell_type": "code",
   "execution_count": 108,
   "id": "ad1c4995-bec0-48be-a5c8-5a70ccf1d599",
   "metadata": {
    "tags": []
   },
   "outputs": [
    {
     "data": {
      "text/plain": [
       "{'order': {'order_id': '325b80c0-3742-4fc2-96ba-27f66d617840',\n",
       "  'product_id': 'ETH-EUR',\n",
       "  'user_id': 'd083ea15-3f44-54da-8e9e-2a5a9bdccb32',\n",
       "  'order_configuration': {'market_market_ioc': {'quote_size': '5'}},\n",
       "  'side': 'BUY',\n",
       "  'client_order_id': '2290779562',\n",
       "  'status': 'FILLED',\n",
       "  'time_in_force': 'IMMEDIATE_OR_CANCEL',\n",
       "  'created_time': '2024-09-02T19:56:22.027861Z',\n",
       "  'completion_percentage': '100',\n",
       "  'filled_size': '0.002166788642422',\n",
       "  'average_filled_price': '2280.1999999999762321',\n",
       "  'fee': '',\n",
       "  'number_of_fills': '2',\n",
       "  'filled_value': '4.9407114624505929',\n",
       "  'pending_cancel': False,\n",
       "  'size_in_quote': True,\n",
       "  'total_fees': '0.0592885375494071',\n",
       "  'size_inclusive_of_fees': True,\n",
       "  'total_value_after_fees': '5',\n",
       "  'trigger_status': 'INVALID_ORDER_TYPE',\n",
       "  'order_type': 'MARKET',\n",
       "  'reject_reason': 'REJECT_REASON_UNSPECIFIED',\n",
       "  'settled': True,\n",
       "  'product_type': 'SPOT',\n",
       "  'reject_message': '',\n",
       "  'cancel_message': '',\n",
       "  'order_placement_source': 'RETAIL_ADVANCED',\n",
       "  'outstanding_hold_amount': '0',\n",
       "  'is_liquidation': False,\n",
       "  'last_fill_time': '2024-09-02T19:56:22.137834938Z',\n",
       "  'edit_history': [],\n",
       "  'leverage': '',\n",
       "  'margin_type': 'UNKNOWN_MARGIN_TYPE',\n",
       "  'retail_portfolio_id': '581b97fc-d5a9-4b69-bb3c-1c9853fb9b71',\n",
       "  'originating_order_id': '',\n",
       "  'attached_order_id': ''}}"
      ]
     },
     "execution_count": 108,
     "metadata": {},
     "output_type": "execute_result"
    }
   ],
   "source": [
    "trade_client.get_order('325b80c0-3742-4fc2-96ba-27f66d617840')"
   ]
  },
  {
   "cell_type": "code",
   "execution_count": null,
   "id": "40d76f77-21af-4d5d-bc0a-7e4b85312be6",
   "metadata": {},
   "outputs": [],
   "source": []
  }
 ],
 "metadata": {
  "kernelspec": {
   "display_name": "Python 3 (ipykernel)",
   "language": "python",
   "name": "python3"
  },
  "language_info": {
   "codemirror_mode": {
    "name": "ipython",
    "version": 3
   },
   "file_extension": ".py",
   "mimetype": "text/x-python",
   "name": "python",
   "nbconvert_exporter": "python",
   "pygments_lexer": "ipython3",
   "version": "3.10.12"
  },
  "toc-showtags": false
 },
 "nbformat": 4,
 "nbformat_minor": 5
}
