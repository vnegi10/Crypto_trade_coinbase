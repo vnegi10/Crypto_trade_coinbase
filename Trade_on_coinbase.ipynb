{
 "cells": [
  {
   "cell_type": "code",
   "execution_count": 31,
   "id": "352c147f-ffb3-4ab6-b364-5bc151920643",
   "metadata": {
    "tags": []
   },
   "outputs": [],
   "source": [
    "import json\n",
    "from coinbase.rest import RESTClient\n",
    "from json import dumps\n",
    "import pandas as pd"
   ]
  },
  {
   "cell_type": "code",
   "execution_count": 51,
   "id": "9975bcda-d3bf-45b7-826e-23f7f1b9b12a",
   "metadata": {
    "tags": []
   },
   "outputs": [],
   "source": [
    "# Get demo API key\n",
    "def get_demo_key(key_type):\n",
    "    f = open(f\"/home/vikas/Documents/Demo_{key_type}_CG_key.json\")\n",
    "    key_dict = json.load(f)\n",
    "    return key_dict[\"name\"], key_dict[\"privateKey\"]"
   ]
  },
  {
   "cell_type": "code",
   "execution_count": 55,
   "id": "98cfb89c-c173-4884-bee9-724b67274a06",
   "metadata": {
    "tags": []
   },
   "outputs": [],
   "source": [
    "api_key, api_secret = get_demo_key(\"view\")\n",
    "\n",
    "view_client = RESTClient(api_key = api_key,\n",
    "                         api_secret = api_secret)"
   ]
  },
  {
   "cell_type": "markdown",
   "id": "9ffe8d86-c5f7-4a66-95e2-4376e4224d1c",
   "metadata": {
    "tags": []
   },
   "source": [
    "## Test API"
   ]
  },
  {
   "cell_type": "code",
   "execution_count": 53,
   "id": "df59f7a0-b548-484d-ba41-795092c5e9cb",
   "metadata": {
    "tags": []
   },
   "outputs": [
    {
     "name": "stdout",
     "output_type": "stream",
     "text": [
      "{\n",
      "    \"iso\": \"2024-09-02T19:36:08Z\",\n",
      "    \"epochSeconds\": \"1725305768\",\n",
      "    \"epochMillis\": \"1725305768873\"\n",
      "}\n"
     ]
    }
   ],
   "source": [
    "server_time = view_client.get_unix_time()\n",
    "print(dumps(server_time, indent = 4))"
   ]
  },
  {
   "cell_type": "code",
   "execution_count": 54,
   "id": "f87cb5f4-8b35-4fca-9a48-8c0b3082eb9e",
   "metadata": {
    "tags": []
   },
   "outputs": [
    {
     "data": {
      "text/plain": [
       "{'can_view': True,\n",
       " 'can_trade': False,\n",
       " 'can_transfer': False,\n",
       " 'portfolio_uuid': 'd083ea15-3f44-54da-8e9e-2a5a9bdccb32'}"
      ]
     },
     "execution_count": 54,
     "metadata": {},
     "output_type": "execute_result"
    }
   ],
   "source": [
    "view_client.get_api_key_permissions()"
   ]
  },
  {
   "cell_type": "markdown",
   "id": "a114fb48-2cea-4c61-890f-f081a167aa7c",
   "metadata": {},
   "source": [
    "## Get trades for a given pair"
   ]
  },
  {
   "cell_type": "code",
   "execution_count": 58,
   "id": "5758d3d5-ee98-49e2-9dbf-b71ccce07e27",
   "metadata": {
    "tags": []
   },
   "outputs": [],
   "source": [
    "# btc_usd = view_client.get_public_market_trades(\"BTC-USD\", 2)\n",
    "# print(dumps(btc_usd, indent = 4))"
   ]
  },
  {
   "cell_type": "code",
   "execution_count": 56,
   "id": "fda3bc54-2eb9-42f1-b7b6-3f879c159ae2",
   "metadata": {
    "tags": []
   },
   "outputs": [],
   "source": [
    "def get_latest_trades(pair, num_trades):\n",
    "    \n",
    "    all_trades = view_client.get_public_market_trades(pair, num_trades)\n",
    "    \n",
    "    return pd.DataFrame(all_trades[\"trades\"])   "
   ]
  },
  {
   "cell_type": "code",
   "execution_count": 57,
   "id": "ba2089f7-d50f-4ef7-8020-d7a0f6bb6209",
   "metadata": {
    "tags": []
   },
   "outputs": [
    {
     "data": {
      "text/html": [
       "<div>\n",
       "<style scoped>\n",
       "    .dataframe tbody tr th:only-of-type {\n",
       "        vertical-align: middle;\n",
       "    }\n",
       "\n",
       "    .dataframe tbody tr th {\n",
       "        vertical-align: top;\n",
       "    }\n",
       "\n",
       "    .dataframe thead th {\n",
       "        text-align: right;\n",
       "    }\n",
       "</style>\n",
       "<table border=\"1\" class=\"dataframe\">\n",
       "  <thead>\n",
       "    <tr style=\"text-align: right;\">\n",
       "      <th></th>\n",
       "      <th>trade_id</th>\n",
       "      <th>product_id</th>\n",
       "      <th>price</th>\n",
       "      <th>size</th>\n",
       "      <th>time</th>\n",
       "      <th>side</th>\n",
       "      <th>bid</th>\n",
       "      <th>ask</th>\n",
       "    </tr>\n",
       "  </thead>\n",
       "  <tbody>\n",
       "    <tr>\n",
       "      <th>0</th>\n",
       "      <td>53256104</td>\n",
       "      <td>ETH-EUR</td>\n",
       "      <td>2283.22</td>\n",
       "      <td>0.04172349</td>\n",
       "      <td>2024-09-02T19:36:45.227154Z</td>\n",
       "      <td>SELL</td>\n",
       "      <td></td>\n",
       "      <td></td>\n",
       "    </tr>\n",
       "    <tr>\n",
       "      <th>1</th>\n",
       "      <td>53256103</td>\n",
       "      <td>ETH-EUR</td>\n",
       "      <td>2282.98</td>\n",
       "      <td>0.07098991</td>\n",
       "      <td>2024-09-02T19:36:44.097968Z</td>\n",
       "      <td>SELL</td>\n",
       "      <td></td>\n",
       "      <td></td>\n",
       "    </tr>\n",
       "    <tr>\n",
       "      <th>2</th>\n",
       "      <td>53256102</td>\n",
       "      <td>ETH-EUR</td>\n",
       "      <td>2282.91</td>\n",
       "      <td>0.14592355</td>\n",
       "      <td>2024-09-02T19:36:44.097968Z</td>\n",
       "      <td>SELL</td>\n",
       "      <td></td>\n",
       "      <td></td>\n",
       "    </tr>\n",
       "    <tr>\n",
       "      <th>3</th>\n",
       "      <td>53256101</td>\n",
       "      <td>ETH-EUR</td>\n",
       "      <td>2282.29</td>\n",
       "      <td>0.02083365</td>\n",
       "      <td>2024-09-02T19:36:26.728480Z</td>\n",
       "      <td>SELL</td>\n",
       "      <td></td>\n",
       "      <td></td>\n",
       "    </tr>\n",
       "    <tr>\n",
       "      <th>4</th>\n",
       "      <td>53256100</td>\n",
       "      <td>ETH-EUR</td>\n",
       "      <td>2281.54</td>\n",
       "      <td>0.0714551</td>\n",
       "      <td>2024-09-02T19:36:22.666133Z</td>\n",
       "      <td>BUY</td>\n",
       "      <td></td>\n",
       "      <td></td>\n",
       "    </tr>\n",
       "  </tbody>\n",
       "</table>\n",
       "</div>"
      ],
      "text/plain": [
       "   trade_id product_id    price        size                         time  \\\n",
       "0  53256104    ETH-EUR  2283.22  0.04172349  2024-09-02T19:36:45.227154Z   \n",
       "1  53256103    ETH-EUR  2282.98  0.07098991  2024-09-02T19:36:44.097968Z   \n",
       "2  53256102    ETH-EUR  2282.91  0.14592355  2024-09-02T19:36:44.097968Z   \n",
       "3  53256101    ETH-EUR  2282.29  0.02083365  2024-09-02T19:36:26.728480Z   \n",
       "4  53256100    ETH-EUR  2281.54   0.0714551  2024-09-02T19:36:22.666133Z   \n",
       "\n",
       "   side bid ask  \n",
       "0  SELL          \n",
       "1  SELL          \n",
       "2  SELL          \n",
       "3  SELL          \n",
       "4   BUY          "
      ]
     },
     "execution_count": 57,
     "metadata": {},
     "output_type": "execute_result"
    }
   ],
   "source": [
    "df_btc_usd = get_latest_trades(\"ETH-EUR\", 5)\n",
    "df_btc_usd"
   ]
  },
  {
   "cell_type": "markdown",
   "id": "ef6c53b6-c794-4560-8639-90d5a8c2b3e4",
   "metadata": {},
   "source": [
    "## Get accounts"
   ]
  },
  {
   "cell_type": "code",
   "execution_count": 46,
   "id": "c27ce78b-b67d-48ab-9f1a-16c606e966f5",
   "metadata": {
    "tags": []
   },
   "outputs": [],
   "source": [
    "#client.get_accounts()"
   ]
  },
  {
   "cell_type": "markdown",
   "id": "6d01f4a0-ea24-41ba-a5cc-40ae0a4e06be",
   "metadata": {},
   "source": [
    "## Get portfolios"
   ]
  },
  {
   "cell_type": "code",
   "execution_count": 50,
   "id": "35aa6b74-3a6c-47f8-a673-6e61e574ab1a",
   "metadata": {
    "tags": []
   },
   "outputs": [
    {
     "data": {
      "text/plain": [
       "{'portfolios': [{'name': 'Default',\n",
       "   'uuid': 'd083ea15-3f44-54da-8e9e-2a5a9bdccb32',\n",
       "   'type': 'DEFAULT',\n",
       "   'deleted': False},\n",
       "  {'name': 'Demo portfolio',\n",
       "   'uuid': '581b97fc-d5a9-4b69-bb3c-1c9853fb9b71',\n",
       "   'type': 'CONSUMER',\n",
       "   'deleted': False}]}"
      ]
     },
     "execution_count": 50,
     "metadata": {},
     "output_type": "execute_result"
    }
   ],
   "source": [
    "client.get_portfolios()"
   ]
  },
  {
   "cell_type": "markdown",
   "id": "6de509b9-400e-4363-935f-9d3f674321b8",
   "metadata": {
    "tags": []
   },
   "source": [
    "## Check portfolio breakdown"
   ]
  },
  {
   "cell_type": "code",
   "execution_count": 60,
   "id": "59d8c179-0ad7-45e0-8eb7-c7d6a1ae9a58",
   "metadata": {
    "tags": []
   },
   "outputs": [],
   "source": [
    "api_key, api_secret = get_demo_key(\"trade\")\n",
    "\n",
    "trade_client = RESTClient(api_key = api_key,\n",
    "                          api_secret = api_secret)"
   ]
  },
  {
   "cell_type": "code",
   "execution_count": null,
   "id": "7b5834a5-d58d-4fe6-a96c-8d50a37be632",
   "metadata": {},
   "outputs": [],
   "source": [
    "trade_client.get_portfolio_breakdown("
   ]
  }
 ],
 "metadata": {
  "kernelspec": {
   "display_name": "Python 3 (ipykernel)",
   "language": "python",
   "name": "python3"
  },
  "language_info": {
   "codemirror_mode": {
    "name": "ipython",
    "version": 3
   },
   "file_extension": ".py",
   "mimetype": "text/x-python",
   "name": "python",
   "nbconvert_exporter": "python",
   "pygments_lexer": "ipython3",
   "version": "3.10.12"
  },
  "toc-showtags": false
 },
 "nbformat": 4,
 "nbformat_minor": 5
}
